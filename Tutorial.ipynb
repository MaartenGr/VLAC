{
 "cells": [
  {
   "cell_type": "markdown",
   "metadata": {},
   "source": [
    "### Import necessary Files"
   ]
  },
  {
   "cell_type": "code",
   "execution_count": 3,
   "metadata": {},
   "outputs": [],
   "source": [
    "from vlac import VLAC\n",
    "import gensim.models.keyedvectors as word2vec"
   ]
  },
  {
   "cell_type": "markdown",
   "metadata": {},
   "source": [
    "### Prepare data\n",
    "In order to prepare the data one must load the corresponding word embeddings either through Gensim or as a simple dictionary (word: vector). It is advised to load only the word embeddings that can be found within the collection of documents as clustering a large number of concepts might be computationally difficult. \n",
    "\n",
    "The collection of documents should be represented as a list of strings. "
   ]
  },
  {
   "cell_type": "code",
   "execution_count": 4,
   "metadata": {},
   "outputs": [],
   "source": [
    "model_w2v = word2vec.KeyedVectors.load_word2vec_format('Data/web_w2v')\n",
    "with open('Data/web_docs.txt', \"r\") as f:\n",
    "    docs = f.readlines()"
   ]
  },
  {
   "cell_type": "markdown",
   "metadata": {},
   "source": [
    "### Train model and transform features\n",
    "The model can be trained using the .fit_transform() procedure. It should be noted that if you use a FastText model, it is advised to set oov to True as it will create word embeddings for out-of-vocabulary words when applying the VLAC procedure (thus, after clustering word embeddings). \n",
    "\n",
    "Note: It is advised to save the resulting kmeans model as that will allow you to quickly transform new documents. "
   ]
  },
  {
   "cell_type": "code",
   "execution_count": null,
   "metadata": {},
   "outputs": [],
   "source": [
    "vlac_model = VLAC(documents=docs, model=model_w2v, oov=False)\n",
    "vlac_features, kmeans = vlac_model.fit_transform(num_concepts=30)"
   ]
  },
  {
   "cell_type": "markdown",
   "metadata": {},
   "source": [
    "### Transform features\n",
    "After having trained the kmeans model, you can use that to quickly transform the features without needing to cluster the embeddings again.  "
   ]
  },
  {
   "cell_type": "code",
   "execution_count": null,
   "metadata": {},
   "outputs": [],
   "source": [
    "vlac_model = VLAC(documents=train_docs, model=model_w2v, oov=False)\n",
    "test_features = vlac_model.transform(kmeans=kmeans)"
   ]
  }
 ],
 "metadata": {
  "kernelspec": {
   "display_name": "Python [default]",
   "language": "python",
   "name": "python3"
  },
  "language_info": {
   "codemirror_mode": {
    "name": "ipython",
    "version": 3
   },
   "file_extension": ".py",
   "mimetype": "text/x-python",
   "name": "python",
   "nbconvert_exporter": "python",
   "pygments_lexer": "ipython3",
   "version": "3.5.4"
  }
 },
 "nbformat": 4,
 "nbformat_minor": 2
}
